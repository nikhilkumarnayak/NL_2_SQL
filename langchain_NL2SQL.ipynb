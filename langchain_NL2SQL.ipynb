{
 "cells": [
  {
   "cell_type": "code",
   "execution_count": 1,
   "id": "initial_id",
   "metadata": {
    "collapsed": true,
    "ExecuteTime": {
     "end_time": "2024-03-18T19:32:15.569766Z",
     "start_time": "2024-03-18T19:32:15.554722500Z"
    }
   },
   "outputs": [],
   "source": [
    "# !pip install langchain_openai langchain_community langchain pymysql chromadb -q"
   ]
  },
  {
   "cell_type": "code",
   "execution_count": 2,
   "outputs": [],
   "source": [
    "# !pip install --upgrade --quiet langchain-openai"
   ],
   "metadata": {
    "collapsed": false,
    "ExecuteTime": {
     "end_time": "2024-03-18T19:32:16.260655100Z",
     "start_time": "2024-03-18T19:32:16.260142Z"
    }
   },
   "id": "8a67c2254302640e"
  },
  {
   "cell_type": "code",
   "execution_count": 1,
   "outputs": [],
   "source": [
    "import os\n",
    "from langchain_community.utilities.sql_database import SQLDatabase\n",
    "from dotenv import load_dotenv\n",
    "from langchain.chains.sql_database.query import create_sql_query_chain\n",
    "from langchain_core.output_parsers import StrOutputParser\n",
    "from langchain_openai import ChatOpenAI,AzureChatOpenAI,OpenAIEmbeddings\n"
   ],
   "metadata": {
    "collapsed": false,
    "ExecuteTime": {
     "end_time": "2024-03-18T21:39:03.466517100Z",
     "start_time": "2024-03-18T21:39:01.715376100Z"
    }
   },
   "id": "7757219d47204fcf"
  },
  {
   "cell_type": "code",
   "execution_count": 2,
   "outputs": [
    {
     "data": {
      "text/plain": "True"
     },
     "execution_count": 2,
     "metadata": {},
     "output_type": "execute_result"
    }
   ],
   "source": [
    "load_dotenv()"
   ],
   "metadata": {
    "collapsed": false,
    "ExecuteTime": {
     "end_time": "2024-03-18T21:39:04.498290500Z",
     "start_time": "2024-03-18T21:39:04.478222100Z"
    }
   },
   "id": "9ff9644e75304124"
  },
  {
   "cell_type": "code",
   "execution_count": 21,
   "outputs": [
    {
     "name": "stdout",
     "output_type": "stream",
     "text": [
      "mysql\n",
      "['pages', 'permission', 'roles', 'tblrteventrequestdata', 'tblrteventrequeststatus']\n",
      "\n",
      "CREATE TABLE pages (\n",
      "\t`PageId` INTEGER NOT NULL AUTO_INCREMENT, \n",
      "\t`PageName` VARCHAR(50) NOT NULL, \n",
      "\tPRIMARY KEY (`PageId`)\n",
      ")COLLATE utf8mb4_0900_ai_ci DEFAULT CHARSET=utf8mb4 ENGINE=InnoDB\n",
      "\n",
      "/*\n",
      "3 rows from pages table:\n",
      "PageId\tPageName\n",
      "1\tOthers\n",
      "2\tGeo Master\n",
      "3\tStores\n",
      "*/\n",
      "\n",
      "\n",
      "CREATE TABLE permission (\n",
      "\t`PermissionId` INTEGER NOT NULL AUTO_INCREMENT, \n",
      "\t`RoleID` INTEGER, \n",
      "\t`PageID` INTEGER, \n",
      "\t`CanView` BIT(1) NOT NULL, \n",
      "\t`CanEdit` BIT(1) NOT NULL, \n",
      "\tPRIMARY KEY (`PermissionId`)\n",
      ")COLLATE utf8mb4_0900_ai_ci DEFAULT CHARSET=utf8mb4 ENGINE=InnoDB\n",
      "\n",
      "/*\n",
      "3 rows from permission table:\n",
      "PermissionId\tRoleID\tPageID\tCanView\tCanEdit\n",
      "1\t1\t1\t0\t0\n",
      "2\t1\t2\t0\t0\n",
      "3\t1\t3\t0\t0\n",
      "*/\n",
      "\n",
      "\n",
      "CREATE TABLE roles (\n",
      "\t`RoleId` INTEGER NOT NULL AUTO_INCREMENT, \n",
      "\t`RoleName` VARCHAR(50) NOT NULL, \n",
      "\tPRIMARY KEY (`RoleId`)\n",
      ")COLLATE utf8mb4_0900_ai_ci DEFAULT CHARSET=utf8mb4 ENGINE=InnoDB\n",
      "\n",
      "/*\n",
      "3 rows from roles table:\n",
      "RoleId\tRoleName\n",
      "1\tSuper Admin\n",
      "2\tAdmin\n",
      "3\tSD\n",
      "*/\n",
      "\n",
      "\n",
      "CREATE TABLE tblrteventrequestdata (\n",
      "\t`EventId` INTEGER NOT NULL AUTO_INCREMENT, \n",
      "\t`EventDate` DATETIME NOT NULL, \n",
      "\t`StartTime` TIME NOT NULL, \n",
      "\t`EndTime` TIME NOT NULL, \n",
      "\t`AgentPartyId` INTEGER NOT NULL, \n",
      "\t`PresentingProduct` INTEGER NOT NULL, \n",
      "\t`SubmissionType` VARCHAR(50), \n",
      "\t`Isremoved` INTEGER NOT NULL, \n",
      "\t`RemovedBy` INTEGER, \n",
      "\t`RemovedDate` DATETIME, \n",
      "\t`RequestedDate` DATETIME NOT NULL, \n",
      "\t`RequestedBy` INTEGER NOT NULL, \n",
      "\t`Status` INTEGER NOT NULL, \n",
      "\t`USCAdvertizing` INTEGER NOT NULL, \n",
      "\t`StoreId` INTEGER, \n",
      "\t`LaguageID` INTEGER, \n",
      "\t`MSMRejectionComments` TEXT, \n",
      "\t`Planyear` VARCHAR(50), \n",
      "\t`Season` VARCHAR(50), \n",
      "\t`RejectedBy` INTEGER, \n",
      "\t`RejectedDate` DATETIME, \n",
      "\t`EventRequestedTo` INTEGER, \n",
      "\t`createdBy` INTEGER NOT NULL, \n",
      "\t`ApprovedBY` INTEGER, \n",
      "\t`ApprovedDate` DATETIME, \n",
      "\t`SendERAStatus` INTEGER, \n",
      "\t`EraResponseStatus` VARCHAR(50), \n",
      "\t`EraSendDate` DATETIME, \n",
      "\tPRIMARY KEY (`EventId`)\n",
      ")COLLATE utf8mb4_0900_ai_ci DEFAULT CHARSET=utf8mb4 ENGINE=InnoDB\n",
      "\n",
      "/*\n",
      "3 rows from tblrteventrequestdata table:\n",
      "EventId\tEventDate\tStartTime\tEndTime\tAgentPartyId\tPresentingProduct\tSubmissionType\tIsremoved\tRemovedBy\tRemovedDate\tRequestedDate\tRequestedBy\tStatus\tUSCAdvertizing\tStoreId\tLaguageID\tMSMRejectionComments\tPlanyear\tSeason\tRejectedBy\tRejectedDate\tEventRequestedTo\tcreatedBy\tApprovedBY\tApprovedDate\tSendERAStatus\tEraResponseStatus\tEraSendDate\n",
      "32231\t2023-11-03 00:00:00\t10:00:00\t15:00:00\t727127\t1\tNone\t0\tNone\tNone\t2023-10-24 18:04:31\t727127\t1\t0\t1831104926\t1\tNone\t2024\tAEP\tNone\tNone\t568045\t727127\tNone\tNone\t0\tNone\tNone\n",
      "32232\t2023-10-31 00:00:00\t09:00:00\t13:00:00\t533024\t1\tNone\t0\tNone\tNone\t2023-10-24 22:16:44\t533024\t2\t0\t1811926843\t1\tNone\t2024\tAEP\tNone\tNone\t2829552\t533024\t2829552\t2023-10-24 22:20:05\t2\tSuccess\t2023-10-25 09:45:08\n",
      "32233\t2023-10-31 00:00:00\t13:00:00\t17:00:00\t690397\t1\tNone\t0\tNone\tNone\t2023-10-24 22:17:40\t690397\t2\t0\t1811926843\t1\tNone\t2024\tAEP\tNone\tNone\t2829552\t690397\t2829552\t2023-10-24 22:20:06\t2\tSuccess\t2023-10-25 09:45:08\n",
      "*/\n",
      "\n",
      "\n",
      "CREATE TABLE tblrteventrequeststatus (\n",
      "\t`StatusId` INTEGER NOT NULL AUTO_INCREMENT, \n",
      "\t`Status` VARCHAR(50), \n",
      "\tPRIMARY KEY (`StatusId`)\n",
      ")COLLATE utf8mb4_0900_ai_ci DEFAULT CHARSET=utf8mb4 ENGINE=InnoDB\n",
      "\n",
      "/*\n",
      "3 rows from tblrteventrequeststatus table:\n",
      "StatusId\tStatus\n",
      "1\tPending\n",
      "2\tApproved\n",
      "3\tRemoved\n",
      "*/\n"
     ]
    }
   ],
   "source": [
    "\n",
    "# os.environ[\"O_OPENAI_API_KEY\"] = \"\"\n",
    "\n",
    "db_user = \"root\"\n",
    "db_password = \"pass\"\n",
    "db_host = \"localhost\"\n",
    "db_name = \"demo_db\"\n",
    "\n",
    "# db = SQLDatabase.from_uri(f\"mysql+pymysql://{db_user}:{db_password}@{db_host}/{db_name}\",sample_rows_in_table_info=1,include_tables=['customers','orders'],custom_table_info={'customers':\"customer\"})\n",
    "db = SQLDatabase.from_uri(f\"mysql+pymysql://{db_user}:{db_password}@{db_host}/{db_name}\")\n",
    "print(db.dialect)\n",
    "print(db.get_usable_table_names())\n",
    "print(db.table_info)\n"
   ],
   "metadata": {
    "collapsed": false,
    "ExecuteTime": {
     "end_time": "2024-03-18T21:40:37.209156800Z",
     "start_time": "2024-03-18T21:40:37.149918Z"
    }
   },
   "id": "6a0f98dd04e6b845"
  },
  {
   "cell_type": "code",
   "execution_count": 22,
   "outputs": [],
   "source": [
    "OPENAI_API_KEY = os.getenv(\"O_OPENAI_API_KEY\")\n",
    "LANGCHAIN_TRACING_V2 = os.getenv(\"LANGCHAIN_TRACING_V2\")\n",
    "LANGCHAIN_API_KEY = os.getenv(\"LANGCHAIN_API_KEY\")"
   ],
   "metadata": {
    "collapsed": false,
    "ExecuteTime": {
     "end_time": "2024-03-18T21:40:54.360656800Z",
     "start_time": "2024-03-18T21:40:54.357452500Z"
    }
   },
   "id": "cc66399d0b9aa030"
  },
  {
   "cell_type": "code",
   "execution_count": 26,
   "outputs": [],
   "source": [
    "llm_openai = ChatOpenAI(openai_api_key=OPENAI_API_KEY,model=\"gpt-3.5-turbo\", temperature=0)\n",
    "generate_query = create_sql_query_chain(llm_openai, db)\n"
   ],
   "metadata": {
    "collapsed": false,
    "ExecuteTime": {
     "end_time": "2024-03-18T21:42:40.330945500Z",
     "start_time": "2024-03-18T21:42:40.267051400Z"
    }
   },
   "id": "afd3a13fd4b31897"
  },
  {
   "cell_type": "code",
   "execution_count": 6,
   "outputs": [
    {
     "name": "stdout",
     "output_type": "stream",
     "text": [
      "SELECT `buyPrice`, `MSRP` \n",
      "FROM products \n",
      "WHERE `productName` = '1968 Ford Mustang'\n",
      "LIMIT 1;\n"
     ]
    }
   ],
   "source": [
    "query = generate_query.invoke({\"question\": \"what is price of `1968 Ford Mustang`\"})\n",
    "# \"what is price of `1968 Ford Mustang`\"\n",
    "print(query)"
   ],
   "metadata": {
    "collapsed": false,
    "ExecuteTime": {
     "end_time": "2024-03-18T21:39:11.512778500Z",
     "start_time": "2024-03-18T21:39:10.138253Z"
    }
   },
   "id": "9b8a45dab60d4d3a"
  },
  {
   "cell_type": "code",
   "execution_count": 27,
   "outputs": [
    {
     "name": "stdout",
     "output_type": "stream",
     "text": [
      "SELECT DISTINCT r.RoleName\n",
      "FROM roles r\n",
      "JOIN permission p ON r.RoleId = p.RoleID\n",
      "WHERE p.PageID % 3 = 0;\n",
      "LIMIT 5\n"
     ]
    }
   ],
   "source": [
    "query = generate_query.invoke({\"question\": \"Retrieve the roles that have permissions on pages with IDs divisible by 3.\"})\n",
    "# \"what is price of `1968 Ford Mustang`\"\n",
    "print(query)"
   ],
   "metadata": {
    "collapsed": false,
    "ExecuteTime": {
     "end_time": "2024-03-18T21:43:20.974486700Z",
     "start_time": "2024-03-18T21:43:18.975790800Z"
    }
   },
   "id": "2d6f31b19191fdb4"
  },
  {
   "cell_type": "code",
   "execution_count": 23,
   "outputs": [],
   "source": [
    "AZURE_OPENAI_API_KEY = os.getenv(\"AZURE_OPENAI_API_KEY\")\n",
    "azure_api_version=os.getenv(\"AZURE_OPENAI_API_VERSION1\"),\n",
    "azure_endpoint=os.getenv(\"AZURE_OPENAI_API_BASE1\")\n",
    "\n",
    "# openai.api_type = \"azure\"\n",
    "# openai.api_key = os.getenv(\"OPENAI_API_KEY\")\n",
    "# openai.api_base = os.getenv(\"OPENAI_API_BASE\") # Endpoint\n",
    "# openai.api_version = os.getenv(\"OPENAI_API_VERSION\")\n",
    "# openai.deployment_name = os.getenv(\"DEPLOYMENT_NAME\")\n",
    "# # openai_deployment = \"chat-gpt35\"\n",
    "openai_deployment = os.getenv(\"AZURE_DEPLOYMENT_NAME1\")\n",
    "# openai_model = \"gpt-35-turbo\""
   ],
   "metadata": {
    "collapsed": false,
    "ExecuteTime": {
     "end_time": "2024-03-18T21:41:06.995815900Z",
     "start_time": "2024-03-18T21:41:06.916112500Z"
    }
   },
   "id": "d25259c92c01c9c0"
  },
  {
   "cell_type": "code",
   "execution_count": 24,
   "outputs": [],
   "source": [
    "llm_azureopenai = AzureChatOpenAI(openai_api_key=AZURE_OPENAI_API_KEY, openai_api_version = '2023-07-01-preview',azure_endpoint=\"https://qaazureaiservice.openai.azure.com/\", azure_deployment=openai_deployment)\n",
    "\n",
    "generate_query_az = create_sql_query_chain(llm_azureopenai, db)\n"
   ],
   "metadata": {
    "collapsed": false,
    "ExecuteTime": {
     "end_time": "2024-03-18T21:41:10.695835700Z",
     "start_time": "2024-03-18T21:41:10.654245200Z"
    }
   },
   "id": "52601e7c52e2b871"
  },
  {
   "cell_type": "code",
   "execution_count": 9,
   "outputs": [
    {
     "name": "stdout",
     "output_type": "stream",
     "text": [
      "SELECT `buyPrice` FROM products WHERE `productName` = '1968 Ford Mustang' LIMIT 1;\n"
     ]
    }
   ],
   "source": [
    "query_az = generate_query_az.invoke({\"question\": \"what is price of `1968 Ford Mustang`\"})\n",
    "\n",
    "print(query_az)"
   ],
   "metadata": {
    "collapsed": false,
    "ExecuteTime": {
     "end_time": "2024-03-18T21:39:19.842527600Z",
     "start_time": "2024-03-18T21:39:18.234757400Z"
    }
   },
   "id": "b16f697a21b815d8"
  },
  {
   "cell_type": "code",
   "execution_count": 25,
   "outputs": [
    {
     "name": "stdout",
     "output_type": "stream",
     "text": [
      "SELECT roles.RoleName FROM roles\n",
      "JOIN permission ON roles.RoleId = permission.RoleID\n",
      "WHERE permission.PageID % 3 = 0\n",
      "LIMIT 5;\n"
     ]
    }
   ],
   "source": [
    "query_az = generate_query_az.invoke({\"question\": \"Retrieve the roles that have permissions on pages with IDs divisible by 3.\"})\n",
    "print(query_az)"
   ],
   "metadata": {
    "collapsed": false,
    "ExecuteTime": {
     "end_time": "2024-03-18T21:42:01.882778100Z",
     "start_time": "2024-03-18T21:41:58.255792200Z"
    }
   },
   "id": "cd96f3c9593fa3"
  },
  {
   "cell_type": "code",
   "execution_count": 28,
   "outputs": [
    {
     "name": "stdout",
     "output_type": "stream",
     "text": [
      "SELECT r.RoleName, COUNT(p.PageID) AS NumOfPages \n",
      "FROM roles r \n",
      "LEFT JOIN permission p ON r.RoleId = p.RoleID AND p.CanView = 1 \n",
      "GROUP BY r.RoleId \n",
      "ORDER BY NumOfPages DESC \n",
      "LIMIT 5;\n"
     ]
    }
   ],
   "source": [
    "query_az = generate_query_az.invoke({\"question\": \"Retrieve a list of roles and the number of pages each role has permission to view.\"})\n",
    "print(query_az)"
   ],
   "metadata": {
    "collapsed": false,
    "ExecuteTime": {
     "end_time": "2024-03-18T21:44:28.417758300Z",
     "start_time": "2024-03-18T21:44:24.389163600Z"
    }
   },
   "id": "ba00e5fe74b0e1"
  },
  {
   "cell_type": "code",
   "execution_count": 35,
   "outputs": [
    {
     "name": "stdout",
     "output_type": "stream",
     "text": [
      "SELECT pages.PageName, COUNT(permission.RoleID) AS NumRoles\n",
      "FROM pages\n",
      "JOIN permission ON pages.PageId = permission.PageID\n",
      "WHERE permission.CanView = 1\n",
      "GROUP BY pages.PageId\n",
      "ORDER BY NumRoles DESC\n",
      "LIMIT 5;\n"
     ]
    }
   ],
   "source": [
    "query_az = generate_query_az.invoke({\"question\": \"Find the pages with the highest number of roles having view access.\"})\n",
    "print(query_az)"
   ],
   "metadata": {
    "collapsed": false,
    "ExecuteTime": {
     "end_time": "2024-03-18T21:58:20.803100900Z",
     "start_time": "2024-03-18T21:58:19.019309900Z"
    }
   },
   "id": "de01f8fe6184de50"
  },
  {
   "cell_type": "code",
   "execution_count": 30,
   "outputs": [
    {
     "name": "stdout",
     "output_type": "stream",
     "text": [
      "SELECT YEAR(EventDate) AS `Year`, COUNT(*) AS `Number of Events` FROM tblrteventrequestdata GROUP BY `Year`\n"
     ]
    }
   ],
   "source": [
    "query_az = generate_query_az.invoke({\"question\": \"Count the number of events for each year.\"})\n",
    "print(query_az)"
   ],
   "metadata": {
    "collapsed": false,
    "ExecuteTime": {
     "end_time": "2024-03-18T21:47:26.535903700Z",
     "start_time": "2024-03-18T21:47:22.785236900Z"
    }
   },
   "id": "9a1eccd95051c9d1"
  },
  {
   "cell_type": "code",
   "execution_count": 32,
   "outputs": [],
   "source": [
    "from langchain_community.tools.sql_database.tool import QuerySQLDataBaseTool"
   ],
   "metadata": {
    "collapsed": false,
    "ExecuteTime": {
     "end_time": "2024-03-18T21:56:06.002665400Z",
     "start_time": "2024-03-18T21:56:05.972943300Z"
    }
   },
   "id": "985ce6c48f118cdf"
  },
  {
   "cell_type": "code",
   "execution_count": 33,
   "outputs": [],
   "source": [
    "execute_query = QuerySQLDataBaseTool(db=db)"
   ],
   "metadata": {
    "collapsed": false,
    "ExecuteTime": {
     "end_time": "2024-03-18T21:56:06.460082400Z",
     "start_time": "2024-03-18T21:56:06.453007200Z"
    }
   },
   "id": "a1cfbcbaff960280"
  },
  {
   "cell_type": "code",
   "execution_count": 12,
   "outputs": [
    {
     "data": {
      "text/plain": "\"[(Decimal('95.34'), Decimal('194.57'))]\""
     },
     "execution_count": 12,
     "metadata": {},
     "output_type": "execute_result"
    }
   ],
   "source": [
    "execute_query.invoke(query)"
   ],
   "metadata": {
    "collapsed": false,
    "ExecuteTime": {
     "end_time": "2024-03-18T21:39:23.819116400Z",
     "start_time": "2024-03-18T21:39:23.800197500Z"
    }
   },
   "id": "82f0d473267c1e27"
  },
  {
   "cell_type": "code",
   "execution_count": 13,
   "outputs": [
    {
     "data": {
      "text/plain": "\"[(Decimal('95.34'),)]\""
     },
     "execution_count": 13,
     "metadata": {},
     "output_type": "execute_result"
    }
   ],
   "source": [
    "execute_query.invoke(query_az)"
   ],
   "metadata": {
    "collapsed": false,
    "ExecuteTime": {
     "end_time": "2024-03-18T21:39:24.815688900Z",
     "start_time": "2024-03-18T21:39:24.775772Z"
    }
   },
   "id": "e34c5f5fec15a2ba"
  },
  {
   "cell_type": "code",
   "execution_count": 36,
   "outputs": [
    {
     "data": {
      "text/plain": "\"[('View Resource Materials', 6), ('Agent Assignment', 4), ('Approve Event', 4), ('Assign Store', 4), ('Users', 3)]\""
     },
     "execution_count": 36,
     "metadata": {},
     "output_type": "execute_result"
    }
   ],
   "source": [
    "execute_query.invoke(query_az)"
   ],
   "metadata": {
    "collapsed": false,
    "ExecuteTime": {
     "end_time": "2024-03-18T21:58:34.541839800Z",
     "start_time": "2024-03-18T21:58:34.531454400Z"
    }
   },
   "id": "dfdc28650a2358dc"
  },
  {
   "cell_type": "code",
   "execution_count": 14,
   "outputs": [
    {
     "data": {
      "text/plain": "'[(326,)]'"
     },
     "execution_count": 14,
     "metadata": {},
     "output_type": "execute_result"
    }
   ],
   "source": [
    "chain = generate_query | execute_query\n",
    "chain.invoke({\"question\": \"How many orders are there\"})"
   ],
   "metadata": {
    "collapsed": false,
    "ExecuteTime": {
     "end_time": "2024-03-18T21:39:26.741101900Z",
     "start_time": "2024-03-18T21:39:25.522137800Z"
    }
   },
   "id": "464812d162bd9b0"
  },
  {
   "cell_type": "code",
   "execution_count": 15,
   "outputs": [
    {
     "data": {
      "text/plain": "'[(326,)]'"
     },
     "execution_count": 15,
     "metadata": {},
     "output_type": "execute_result"
    }
   ],
   "source": [
    "chain = generate_query_az | execute_query\n",
    "chain.invoke({\"question\": \"How many orders are there\"})"
   ],
   "metadata": {
    "collapsed": false,
    "ExecuteTime": {
     "end_time": "2024-03-18T21:39:29.412785800Z",
     "start_time": "2024-03-18T21:39:28.116740700Z"
    }
   },
   "id": "a668074ce991f388"
  },
  {
   "cell_type": "code",
   "execution_count": 16,
   "outputs": [
    {
     "name": "stdout",
     "output_type": "stream",
     "text": [
      "You are a MySQL expert. Given an input question, first create a syntactically correct MySQL query to run, then look at the results of the query and return the answer to the input question.\n",
      "Unless the user specifies in the question a specific number of examples to obtain, query for at most 5 results using the LIMIT clause as per MySQL. You can order the results to return the most informative data in the database.\n",
      "Never query for all columns from a table. You must query only the columns that are needed to answer the question. Wrap each column name in backticks (`) to denote them as delimited identifiers.\n",
      "Pay attention to use only the column names you can see in the tables below. Be careful to not query for columns that do not exist. Also, pay attention to which column is in which table.\n",
      "Pay attention to use CURDATE() function to get the current date, if the question involves \"today\".\n",
      "\n",
      "Use the following format:\n",
      "\n",
      "Question: Question here\n",
      "SQLQuery: SQL Query to run\n",
      "SQLResult: Result of the SQLQuery\n",
      "Answer: Final answer here\n",
      "\n",
      "Only use the following tables:\n",
      "\u001B[33;1m\u001B[1;3m{table_info}\u001B[0m\n",
      "\n",
      "Question: \u001B[33;1m\u001B[1;3m{input}\u001B[0m\n"
     ]
    }
   ],
   "source": [
    "chain.get_prompts()[0].pretty_print()"
   ],
   "metadata": {
    "collapsed": false,
    "ExecuteTime": {
     "end_time": "2024-03-18T21:39:34.511754400Z",
     "start_time": "2024-03-18T21:39:34.493178700Z"
    }
   },
   "id": "10c96d93a52e0fcf"
  },
  {
   "cell_type": "code",
   "execution_count": 17,
   "outputs": [
    {
     "data": {
      "text/plain": "'There are 326 orders.'"
     },
     "execution_count": 17,
     "metadata": {},
     "output_type": "execute_result"
    }
   ],
   "source": [
    "from operator import itemgetter\n",
    "\n",
    "from langchain_core.output_parsers import StrOutputParser\n",
    "from langchain_core.prompts import PromptTemplate\n",
    "from langchain_core.runnables import RunnablePassthrough\n",
    "\n",
    "answer_prompt = PromptTemplate.from_template(\n",
    "    \"\"\"Given the following user question, corresponding SQL query, and SQL result, answer the user question.\n",
    "\n",
    "Question: {question}\n",
    "SQL Query: {query}\n",
    "SQL Result: {result}\n",
    "Answer: \"\"\"\n",
    ")\n",
    "\n",
    "rephrase_answer = answer_prompt | llm_azureopenai | StrOutputParser()\n",
    "\n",
    "chain = (\n",
    "        RunnablePassthrough.assign(query=generate_query_az).assign(\n",
    "            result=itemgetter(\"query\") | execute_query\n",
    "        )\n",
    "        | rephrase_answer\n",
    ")\n",
    "\n",
    "chain.invoke({\"question\": \"How many orders are there\"})"
   ],
   "metadata": {
    "collapsed": false,
    "ExecuteTime": {
     "end_time": "2024-03-18T21:39:37.352127500Z",
     "start_time": "2024-03-18T21:39:35.266157500Z"
    }
   },
   "id": "c880be44f12cc351"
  },
  {
   "cell_type": "markdown",
   "source": [
    "Adding few-shot examples"
   ],
   "metadata": {
    "collapsed": false
   },
   "id": "8bff48471b169914"
  },
  {
   "cell_type": "code",
   "execution_count": 18,
   "outputs": [],
   "source": [
    "examples = [\n",
    "    {\n",
    "        \"input\": \"List all customers in France with a credit limit over 20,000.\",\n",
    "        \"query\": \"SELECT * FROM customers WHERE country = 'France' AND creditLimit > 20000;\"\n",
    "    },\n",
    "    {\n",
    "        \"input\": \"Get the highest payment amount made by any customer.\",\n",
    "        \"query\": \"SELECT MAX(amount) FROM payments;\"\n",
    "    },\n",
    "    {\n",
    "        \"input\": \"Show product details for products in the 'Motorcycles' product line.\",\n",
    "        \"query\": \"SELECT * FROM products WHERE productLine = 'Motorcycles';\"\n",
    "    },\n",
    "    {\n",
    "        \"input\": \"Retrieve the names of employees who report to employee number 1002.\",\n",
    "        \"query\": \"SELECT firstName, lastName FROM employees WHERE reportsTo = 1002;\"\n",
    "    },\n",
    "    {\n",
    "        \"input\": \"List all products with a stock quantity less than 7000.\",\n",
    "        \"query\": \"SELECT productName, quantityInStock FROM products WHERE quantityInStock < 7000;\"\n",
    "    },\n",
    "    {\n",
    "        'input':\"what is price of `1968 Ford Mustang`\",\n",
    "        \"query\": \"SELECT `buyPrice`, `MSRP` FROM products  WHERE `productName` = '1968 Ford Mustang' LIMIT 1;\"\n",
    "    }\n",
    "]"
   ],
   "metadata": {
    "collapsed": false,
    "ExecuteTime": {
     "end_time": "2024-03-18T21:39:39.719103100Z",
     "start_time": "2024-03-18T21:39:39.701750900Z"
    }
   },
   "id": "94a2dabfa0b19911"
  },
  {
   "cell_type": "code",
   "execution_count": 19,
   "outputs": [
    {
     "name": "stdout",
     "output_type": "stream",
     "text": [
      "Human: List all customers in France with a credit limit over 20,000.\n",
      "SQLQuery:\n",
      "AI: SELECT * FROM customers WHERE country = 'France' AND creditLimit > 20000;\n",
      "Human: Get the highest payment amount made by any customer.\n",
      "SQLQuery:\n",
      "AI: SELECT MAX(amount) FROM payments;\n",
      "Human: Show product details for products in the 'Motorcycles' product line.\n",
      "SQLQuery:\n",
      "AI: SELECT * FROM products WHERE productLine = 'Motorcycles';\n",
      "Human: Retrieve the names of employees who report to employee number 1002.\n",
      "SQLQuery:\n",
      "AI: SELECT firstName, lastName FROM employees WHERE reportsTo = 1002;\n",
      "Human: List all products with a stock quantity less than 7000.\n",
      "SQLQuery:\n",
      "AI: SELECT productName, quantityInStock FROM products WHERE quantityInStock < 7000;\n",
      "Human: what is price of `1968 Ford Mustang`\n",
      "SQLQuery:\n",
      "AI: SELECT `buyPrice`, `MSRP` FROM products  WHERE `productName` = '1968 Ford Mustang' LIMIT 1;\n"
     ]
    }
   ],
   "source": [
    "from langchain_core.prompts import ChatPromptTemplate, MessagesPlaceholder,FewShotChatMessagePromptTemplate,PromptTemplate\n",
    "\n",
    "example_prompt = ChatPromptTemplate.from_messages(\n",
    "    [\n",
    "        (\"human\", \"{input}\\nSQLQuery:\"),\n",
    "        (\"ai\", \"{query}\"),\n",
    "    ]\n",
    ")\n",
    "few_shot_prompt = FewShotChatMessagePromptTemplate(\n",
    "    example_prompt=example_prompt,\n",
    "    examples=examples,\n",
    "    # input_variables=[\"input\",\"top_k\"],\n",
    "    input_variables=[\"input1\"],\n",
    ")\n",
    "print(few_shot_prompt.format(input1=\"How many products are there?\",top_k=3,table_info=\"\"))"
   ],
   "metadata": {
    "collapsed": false,
    "ExecuteTime": {
     "end_time": "2024-03-18T21:39:41.337718600Z",
     "start_time": "2024-03-18T21:39:41.326283800Z"
    }
   },
   "id": "bad343c32ddf93e5"
  },
  {
   "cell_type": "code",
   "execution_count": null,
   "outputs": [],
   "source": [],
   "metadata": {
    "collapsed": false
   },
   "id": "24d9bf4d15b69a27"
  },
  {
   "cell_type": "markdown",
   "source": [
    "Dynamic few-shot example selection"
   ],
   "metadata": {
    "collapsed": false
   },
   "id": "aeaa88fc886d550c"
  },
  {
   "cell_type": "code",
   "execution_count": 20,
   "outputs": [
    {
     "ename": "ValidationError",
     "evalue": "1 validation error for OpenAIEmbeddings\n__root__\n  Did not find openai_api_key, please add an environment variable `OPENAI_API_KEY` which contains it, or pass `openai_api_key` as a named parameter. (type=value_error)",
     "output_type": "error",
     "traceback": [
      "\u001B[1;31m---------------------------------------------------------------------------\u001B[0m",
      "\u001B[1;31mValidationError\u001B[0m                           Traceback (most recent call last)",
      "Cell \u001B[1;32mIn[20], line 9\u001B[0m\n\u001B[0;32m      5\u001B[0m vectorstore \u001B[38;5;241m=\u001B[39m Chroma()\n\u001B[0;32m      6\u001B[0m vectorstore\u001B[38;5;241m.\u001B[39mdelete_collection()\n\u001B[0;32m      7\u001B[0m example_selector \u001B[38;5;241m=\u001B[39m SemanticSimilarityExampleSelector\u001B[38;5;241m.\u001B[39mfrom_examples(\n\u001B[0;32m      8\u001B[0m     examples,\n\u001B[1;32m----> 9\u001B[0m     \u001B[43mOpenAIEmbeddings\u001B[49m\u001B[43m(\u001B[49m\u001B[43m)\u001B[49m,\n\u001B[0;32m     10\u001B[0m     vectorstore,\n\u001B[0;32m     11\u001B[0m     k\u001B[38;5;241m=\u001B[39m\u001B[38;5;241m2\u001B[39m,\n\u001B[0;32m     12\u001B[0m     input_keys\u001B[38;5;241m=\u001B[39m[\u001B[38;5;124m\"\u001B[39m\u001B[38;5;124minput\u001B[39m\u001B[38;5;124m\"\u001B[39m],\n\u001B[0;32m     13\u001B[0m )\n\u001B[0;32m     14\u001B[0m example_selector\u001B[38;5;241m.\u001B[39mselect_examples({\u001B[38;5;124m\"\u001B[39m\u001B[38;5;124minput\u001B[39m\u001B[38;5;124m\"\u001B[39m: \u001B[38;5;124m\"\u001B[39m\u001B[38;5;124mhow many employees we have?\u001B[39m\u001B[38;5;124m\"\u001B[39m})\n\u001B[0;32m     15\u001B[0m \u001B[38;5;66;03m# example_selector.select_examples({\"input\": \"How many employees?\"})\u001B[39;00m\n",
      "File \u001B[1;32m~\\AppData\\Local\\Packages\\PythonSoftwareFoundation.Python.3.11_qbz5n2kfra8p0\\LocalCache\\local-packages\\Python311\\site-packages\\pydantic\\v1\\main.py:341\u001B[0m, in \u001B[0;36mBaseModel.__init__\u001B[1;34m(__pydantic_self__, **data)\u001B[0m\n\u001B[0;32m    339\u001B[0m values, fields_set, validation_error \u001B[38;5;241m=\u001B[39m validate_model(__pydantic_self__\u001B[38;5;241m.\u001B[39m\u001B[38;5;18m__class__\u001B[39m, data)\n\u001B[0;32m    340\u001B[0m \u001B[38;5;28;01mif\u001B[39;00m validation_error:\n\u001B[1;32m--> 341\u001B[0m     \u001B[38;5;28;01mraise\u001B[39;00m validation_error\n\u001B[0;32m    342\u001B[0m \u001B[38;5;28;01mtry\u001B[39;00m:\n\u001B[0;32m    343\u001B[0m     object_setattr(__pydantic_self__, \u001B[38;5;124m'\u001B[39m\u001B[38;5;124m__dict__\u001B[39m\u001B[38;5;124m'\u001B[39m, values)\n",
      "\u001B[1;31mValidationError\u001B[0m: 1 validation error for OpenAIEmbeddings\n__root__\n  Did not find openai_api_key, please add an environment variable `OPENAI_API_KEY` which contains it, or pass `openai_api_key` as a named parameter. (type=value_error)"
     ]
    }
   ],
   "source": [
    "from langchain_community.vectorstores import Chroma\n",
    "from langchain_core.example_selectors import SemanticSimilarityExampleSelector\n",
    "# from langchain_openai import OpenAIEmbeddings\n",
    "\n",
    "vectorstore = Chroma()\n",
    "vectorstore.delete_collection()\n",
    "example_selector = SemanticSimilarityExampleSelector.from_examples(\n",
    "    examples,\n",
    "    OpenAIEmbeddings(),\n",
    "    vectorstore,\n",
    "    k=2,\n",
    "    input_keys=[\"input\"],\n",
    ")\n",
    "example_selector.select_examples({\"input\": \"how many employees we have?\"})\n",
    "# example_selector.select_examples({\"input\": \"How many employees?\"})"
   ],
   "metadata": {
    "collapsed": false,
    "ExecuteTime": {
     "end_time": "2024-03-18T21:39:52.858700800Z",
     "start_time": "2024-03-18T21:39:51.565081300Z"
    }
   },
   "id": "914a5486681da0f5"
  },
  {
   "cell_type": "code",
   "execution_count": null,
   "outputs": [],
   "source": [
    "few_shot_prompt = FewShotChatMessagePromptTemplate(\n",
    "    example_prompt=example_prompt,\n",
    "    example_selector=example_selector,\n",
    "    input_variables=[\"input\",\"top_k\"],\n",
    ")\n",
    "print(few_shot_prompt.format(input=\"How many products are there?\"))\n",
    "     "
   ],
   "metadata": {
    "collapsed": false
   },
   "id": "63db1d91e3a89c3f"
  }
 ],
 "metadata": {
  "kernelspec": {
   "display_name": "Python 3",
   "language": "python",
   "name": "python3"
  },
  "language_info": {
   "codemirror_mode": {
    "name": "ipython",
    "version": 2
   },
   "file_extension": ".py",
   "mimetype": "text/x-python",
   "name": "python",
   "nbconvert_exporter": "python",
   "pygments_lexer": "ipython2",
   "version": "2.7.6"
  }
 },
 "nbformat": 4,
 "nbformat_minor": 5
}
